{
 "cells": [
  {
   "cell_type": "markdown",
   "metadata": {},
   "source": [
    "## Monte Carlo Simulation of Heston Model\n",
    "\n",
    "The Heston model for asset pricing has been widely examined in the literature. Under this model, the dynamics of the asset \n",
    "price $S_t$ and the variance $v_t$ are governed by the following system of stochastic differential equations:\n",
    "\n",
    "$$\n",
    "dS_t = r S_t \\, dt + \\sqrt{v_t} S_t \\, dZ_t\n",
    "$$\n",
    "$$\n",
    "dv_t = \\kappa (\\theta - v_t) \\, dt + \\sigma \\sqrt{v_t} \\, dW_t\n",
    "$$\n",
    "$$\n",
    "Z_t = \\rho W_t + \\sqrt{1 - \\rho^2} Z_t\n",
    "$$\n",
    "\n",
    "Where:\n",
    "- The spot values $S_0 = 1$ and $v_0 = 0.1$,\n",
    "- $r$ is the risk-free interest rate, assumed to be $r = 0$,\n",
    "- $\\kappa$ is the mean reversion rate of the volatility,\n",
    "- $\\theta$ is the long-term volatility,\n",
    "- $\\sigma$ is the volatility of volatility,\n",
    "- $W_t$ and $Z_t$ are independent Brownian motions.\n",
    "\n",
    "In this project, we aim to compare two distinct methods for simulating an at-the-money call option (where \"at-the-money\" here means $K = S_0 = 1$) at maturity $T = 1$ under the Heston model. The option has a payoff given by $f(x) = (x - K)^+$, so we want to simulate with Monte Carlo the expectation $E[f(S_T)] = E[(S_1 - 1)^+]$. \n",
    "\n",
    "This comparison will focus on the efficiency and accuracy of each simulation method in pricing the call option within the stochastic volatility framework of the Heston model.\n",
    "\n",
    "We begin with the Euler discretization scheme, which updates the asset price $S_t$ and the volatility $v_t$ at each time step as follows:\n",
    "\n",
    "$$\n",
    "S_{t+\\Delta t} = S_t + r S_t \\Delta t + \\sqrt{v_t} S_t \\sqrt{\\Delta t} \\left( \\rho G_1 + \\sqrt{1 - \\rho^2} G_2 \\right)\n",
    "$$\n",
    "\n",
    "$$\n",
    "v_{t+\\Delta t} = g \\left( v_t + \\kappa (\\theta - v_t) \\Delta t + \\sigma \\sqrt{v_t} \\sqrt{\\Delta t} G_1 \\right)\n",
    "$$\n",
    "\n",
    "where $G_1$ and $G_2$ are independent standard normal random variables, and the function $g$ is either taken to be equal to $(\\cdot)^+$ or to $|\\cdot|$.\n",
    "\n",
    "\n",
    "## Heston Model\n",
    "\n",
    "The topic of this project revolves around understanding and simulating the behavior of an asset's price under the Heston model, a popular model in financial mathematics for capturing stochastic (random) volatility (second differential equation). The Heston model is commonly used in asset pricing, particularly for options, due to its ability to account for the fact that volatility is itself a random process that can change due to market conditions. This contrasts with simpler models like the Black-Scholes model, which assumes constant volatility.\n",
    "\n",
    "In finance, **volatility** is a measure of the degree to which an asset's price fluctuates over time. In simpler terms, it represents how \"risky\" or \"unstable\" an asset is in terms of price changes. High volatility means an asset's price changes significantly (both up and down) over short periods, while low volatility suggests more stable or gradual price changes. Volatility is often quantified as the standard deviation or variance of returns (_percentage change in price_) over a specified period. It reflects the degree to which the asset's returns deviate from its average return.\n",
    "\n",
    "The system of stochastic differential equations that govern the Heston model is given by:\n",
    "- **Asset Price $S_t$**: The price fluctuates according to its own SDE, which includes both a predictable component (related to the risk-free interest rate) and a random term influenced by the asset's volatility."
   ]
  },
  {
   "cell_type": "code",
   "execution_count": null,
   "metadata": {
    "vscode": {
     "languageId": "plaintext"
    }
   },
   "outputs": [],
   "source": [
    "!cd .. && mkdir -p build && cd build && cmake .. && make -j4"
   ]
  },
  {
   "cell_type": "code",
   "execution_count": null,
   "metadata": {
    "vscode": {
     "languageId": "plaintext"
    }
   },
   "outputs": [],
   "source": [
    "!cd .. && cd build && ./test/test"
   ]
  }
 ],
 "metadata": {
  "language_info": {
   "name": "python"
  }
 },
 "nbformat": 4,
 "nbformat_minor": 2
}
